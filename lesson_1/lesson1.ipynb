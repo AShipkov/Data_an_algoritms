{
 "cells": [
  {
   "cell_type": "code",
   "execution_count": 93,
   "metadata": {},
   "outputs": [],
   "source": [
    "import numpy as np\n",
    "import matplotlib.pyplot as plt"
   ]
  },
  {
   "cell_type": "code",
   "execution_count": 94,
   "metadata": {},
   "outputs": [
    {
     "data": {
      "text/plain": [
       "(2, 10)"
      ]
     },
     "execution_count": 94,
     "metadata": {},
     "output_type": "execute_result"
    }
   ],
   "source": [
    "y = [45, 55, 50, 59, 65, 35, 75, 80, 50, 60]\n",
    "# y = k*x + b\n",
    "# y = k_1*x_1 + k_2*x_2 + ... + b\n",
    "X = np.array([[1, 1, 1, 1, 1, 1, 1, 1, 1, 1],\n",
    "              [1, 1, 2, 1, 3, 0, 5, 10, 1, 2]])\n",
    "X.shape"
   ]
  },
  {
   "cell_type": "code",
   "execution_count": 95,
   "metadata": {},
   "outputs": [],
   "source": [
    "def calc_mse(y, y_pred):\n",
    "    err = np.mean((y - y_pred)**2)\n",
    "    return err"
   ]
  },
  {
   "cell_type": "markdown",
   "metadata": {},
   "source": [
    "## Задание 1\n",
    "### Подберите скорость обучения (alpha) и количество итераций:"
   ]
  },
  {
   "cell_type": "code",
   "execution_count": 96,
   "metadata": {},
   "outputs": [
    {
     "data": {
      "text/plain": [
       "(array([1. , 0.5]), 0.0001)"
      ]
     },
     "execution_count": 96,
     "metadata": {},
     "output_type": "execute_result"
    }
   ],
   "source": [
    "n = X.shape[1]\n",
    "alpha = 1e-4\n",
    "W = np.array([1, 0.5])\n",
    "W, alpha"
   ]
  },
  {
   "cell_type": "code",
   "execution_count": 97,
   "metadata": {},
   "outputs": [
    {
     "name": "stdout",
     "output_type": "stream",
     "text": [
      "0 [1.01102 0.534  ] 3173.15\n",
      "100 [2.02168794 3.452835  ] 2207.6942101483005\n",
      "200 [2.88306663 5.58962851] 1670.7027004086372\n",
      "300 [3.63289519 7.14848061] 1368.0832412796256\n",
      "400 [4.29908617 8.28027926] 1193.7493344933293\n",
      "500 [4.90228732 9.09657298] 1089.714750358689\n",
      "600 [5.45777535 9.67982684] 1024.2828984889416\n",
      "700 [ 5.97685612 10.0910047 ] 980.1260644155933\n",
      "800 [ 6.46789973 10.37517467] 947.770026039189\n",
      "900 [ 6.93710574 10.56565326] 922.0330206910179\n",
      "1000 [ 7.38906894 10.68706909] 900.0794345405571\n",
      "1100 [ 7.82719761 10.75762786] 880.3560305497828\n",
      "1200 [ 8.25402271 10.7907869 ] 862.0105344693482\n",
      "1300 [ 8.67142649 10.79649311] 844.5738572427321\n",
      "1400 [ 9.08081151 10.78209811] 827.7864098809556\n"
     ]
    }
   ],
   "source": [
    "for i in range(1500):\n",
    "    y_pred = np.dot(W, X)\n",
    "    err = calc_mse(y, y_pred)\n",
    "    for ii in range(W.shape[0]):\n",
    "        W[ii] -= alpha * (1/n * 2 * np.sum(X[ii] * (y_pred - y)))\n",
    "    if i % 100 == 0:\n",
    "        print(i, W, err)"
   ]
  },
  {
   "cell_type": "code",
   "execution_count": 98,
   "metadata": {},
   "outputs": [],
   "source": [
    "X = np.array([[1, 1, 1, 1, 1, 1, 1, 1, 1, 1], [1, 1, 2, 1, 3, 0, 5, 10, 1, 2]]).T\n",
    "n = X.shape[1]"
   ]
  },
  {
   "cell_type": "code",
   "execution_count": 99,
   "metadata": {},
   "outputs": [
    {
     "name": "stdout",
     "output_type": "stream",
     "text": [
      "Iteration=0: W_new=[11.47543002 10.57884272], MSE=811.50317\n",
      "Iteration=10: W_new=[25.19116486  7.9807527 ], MSE=333.66998\n",
      "Iteration=20: W_new=[33.02509067  6.53415515], MSE=164.41252\n",
      "Iteration=30: W_new=[37.69394825  5.67201489], MSE=98.90547\n",
      "Iteration=40: W_new=[40.5878755   5.13762908], MSE=71.45108\n",
      "Iteration=50: W_new=[42.4465098   4.79441804], MSE=59.08532\n",
      "Iteration=60: W_new=[43.67925167  4.56678282], MSE=53.14042\n",
      "Iteration=70: W_new=[44.52104806  4.41133868], MSE=50.1086\n",
      "Iteration=80: W_new=[45.11126428  4.30235074], MSE=48.47748\n",
      "Iteration=90: W_new=[45.53511352  4.22408373], MSE=47.55639\n",
      "Iteration=100: W_new=[45.84616896  4.16664497], MSE=47.0129\n",
      "Iteration=110: W_new=[46.07898501  4.1236537 ], MSE=46.67919\n",
      "Iteration=120: W_new=[46.25638056  4.09089626], MSE=46.46676\n",
      "Iteration=130: W_new=[46.39375576  4.06552888], MSE=46.32703\n",
      "Iteration=140: W_new=[46.50171473  4.04559343], MSE=46.23235\n",
      "Iteration=150: W_new=[46.58769603  4.02971632], MSE=46.16644\n",
      "Iteration=160: W_new=[46.65700824  4.01691729], MSE=46.11943\n",
      "Iteration=170: W_new=[46.71350078  4.00648551], MSE=46.08513\n",
      "Iteration=180: W_new=[46.76000676  3.99789783], MSE=46.05961\n",
      "Iteration=190: W_new=[46.79864028  3.99076385], MSE=46.04027\n",
      "Iteration=200: W_new=[46.83099935  3.9847885 ], MSE=46.02536\n",
      "Iteration=210: W_new=[46.85830646  3.97974604], MSE=46.0137\n",
      "Iteration=220: W_new=[46.88150742  3.9754618 ], MSE=46.00445\n",
      "Iteration=230: W_new=[46.9013417   3.97179925], MSE=45.99702\n",
      "Iteration=240: W_new=[46.91839316  3.96865057], MSE=45.99099\n",
      "Iteration=250: W_new=[46.93312711  3.96592983], MSE=45.98603\n",
      "Iteration=260: W_new=[46.94591757  3.96356797], MSE=45.98193\n",
      "Iteration=270: W_new=[46.9570677   3.96150902], MSE=45.9785\n",
      "Iteration=280: W_new=[46.96682507  3.95970724], MSE=45.97562\n",
      "Iteration=290: W_new=[46.97539336  3.95812505], MSE=45.97317\n",
      "Iteration=300: W_new=[46.98294124  3.95673127], MSE=45.97109\n",
      "Iteration=310: W_new=[46.98960933  3.95549996], MSE=45.9693\n",
      "Iteration=320: W_new=[46.99551556  3.95440933], MSE=45.96775\n",
      "Iteration=330: W_new=[47.00075937  3.95344102], MSE=45.96641\n",
      "Iteration=340: W_new=[47.0054251   3.95257945], MSE=45.96525\n",
      "Iteration=350: W_new=[47.00958459  3.95181137], MSE=45.96423\n",
      "Iteration=360: W_new=[47.01329938  3.95112541], MSE=45.96333\n",
      "Iteration=370: W_new=[47.01662237  3.95051179], MSE=45.96255\n",
      "Iteration=380: W_new=[47.01959927  3.94996209], MSE=45.96185\n",
      "Iteration=390: W_new=[47.02226967  3.94946898], MSE=45.96124\n",
      "Iteration=400: W_new=[47.02466805  3.9490261 ], MSE=45.9607\n",
      "Iteration=410: W_new=[47.02682448  3.94862789], MSE=45.96021\n",
      "Iteration=420: W_new=[47.02876533  3.9482695 ], MSE=45.95978\n",
      "Iteration=430: W_new=[47.03051374  3.94794664], MSE=45.95939\n",
      "Iteration=440: W_new=[47.0320901   3.94765556], MSE=45.95905\n",
      "Iteration=450: W_new=[47.0335124   3.94739292], MSE=45.95874\n",
      "Iteration=460: W_new=[47.03479658  3.94715578], MSE=45.95846\n",
      "Iteration=470: W_new=[47.03595678  3.94694155], MSE=45.95822\n",
      "Iteration=480: W_new=[47.03700556  3.94674788], MSE=45.95799\n",
      "Iteration=490: W_new=[47.03795411  3.94657272], MSE=45.95779\n",
      "Iteration=500: W_new=[47.0388124   3.94641423], MSE=45.95761\n",
      "Iteration=510: W_new=[47.03958936  3.94627076], MSE=45.95745\n",
      "Iteration=520: W_new=[47.04029296  3.94614084], MSE=45.9573\n",
      "Iteration=530: W_new=[47.04093036  3.94602314], MSE=45.95717\n",
      "Iteration=540: W_new=[47.04150797  3.94591648], MSE=45.95705\n",
      "Iteration=550: W_new=[47.04203154  3.94581979], MSE=45.95694\n",
      "Iteration=560: W_new=[47.04250627  3.94573213], MSE=45.95684\n",
      "Iteration=570: W_new=[47.0429368   3.94565263], MSE=45.95675\n",
      "Iteration=580: W_new=[47.04332734  3.94558052], MSE=45.95667\n",
      "Iteration=590: W_new=[47.04368168  3.94551508], MSE=45.9566\n",
      "Iteration=600: W_new=[47.04400322  3.94545571], MSE=45.95654\n",
      "Iteration=610: W_new=[47.04429505  3.94540182], MSE=45.95648\n",
      "Iteration=620: W_new=[47.04455996  3.9453529 ], MSE=45.95642\n",
      "Iteration=630: W_new=[47.04480046  3.94530849], MSE=45.95637\n",
      "Iteration=640: W_new=[47.04501883  3.94526817], MSE=45.95633\n",
      "Iteration=650: W_new=[47.04521712  3.94523155], MSE=45.95629\n",
      "Iteration=660: W_new=[47.0453972  3.9451983], MSE=45.95625\n",
      "Iteration=670: W_new=[47.04556077  3.9451681 ], MSE=45.95622\n",
      "Iteration=680: W_new=[47.04570933  3.94514066], MSE=45.95619\n",
      "Iteration=690: W_new=[47.04584429  3.94511574], MSE=45.95616\n",
      "Iteration=700: W_new=[47.0459669  3.9450931], MSE=45.95614\n",
      "Iteration=710: W_new=[47.04607828  3.94507253], MSE=45.95611\n",
      "Iteration=720: W_new=[47.04617949  3.94505384], MSE=45.95609\n",
      "Iteration=730: W_new=[47.04627144  3.94503686], MSE=45.95608\n",
      "Iteration=740: W_new=[47.046355    3.94502144], MSE=45.95606\n"
     ]
    }
   ],
   "source": [
    "alpha = 1e-2\n",
    "_iter = 750\n",
    "\n",
    "for i in range(_iter):\n",
    "    y_pred = np.dot(X, W)\n",
    "    err = calc_mse(y, y_pred)\n",
    "    for k in range(W.shape[0]):\n",
    "        W[k] -= alpha * (1/n * 2 * X[:, k] @ (y_pred - y))\n",
    "    if i % 10 == 0:\n",
    "        alpha /= 1.1\n",
    "        print(f'Iteration={i}: W_new={W}, MSE={round(err, 5)}')"
   ]
  },
  {
   "cell_type": "code",
   "execution_count": 100,
   "metadata": {},
   "outputs": [
    {
     "data": {
      "text/plain": [
       "(749, array([47.04642333,  3.94500882]), 45.95604488172455)"
      ]
     },
     "execution_count": 100,
     "metadata": {},
     "output_type": "execute_result"
    }
   ],
   "source": [
    "i, W, err"
   ]
  },
  {
   "cell_type": "code",
   "execution_count": 102,
   "metadata": {},
   "outputs": [
    {
     "data": {
      "text/plain": [
       "<matplotlib.legend.Legend at 0x1ae0290a7f0>"
      ]
     },
     "execution_count": 102,
     "metadata": {},
     "output_type": "execute_result"
    },
    {
     "data": {
      "image/png": "[encoded data removed]",
      "text/plain": [
       "<Figure size 720x504 with 1 Axes>"
      ]
     },
     "metadata": {
      "needs_background": "light"
     },
     "output_type": "display_data"
    }
   ],
   "source": [
    "fig = plt.figure(figsize=(10, 7))\n",
    "plt.scatter(X.T[1], y)\n",
    "plt.plot(X.T[1], W[0] + W[1] * X.T[1], label = f'{round(W[0], 4)} + {round(W[1], 3)} * x')\n",
    "plt.legend()"
   ]
  },
  {
   "cell_type": "markdown",
   "metadata": {},
   "source": [
    "## Задание 2\n",
    "### В этом коде мы избавляемся от итераций по весам, но тут есть ошибка, исправьте ее"
   ]
  },
  {
   "cell_type": "code",
   "execution_count": 65,
   "metadata": {},
   "outputs": [],
   "source": [
    "y = [45, 55, 50, 59, 65, 35, 75, 80, 50, 60]\n",
    "X = np.array([[1, 1, 1, 1, 1, 1, 1, 1, 1, 1],\n",
    "              [1, 1, 2, 1, 3, 0, 5, 10, 1, 2]])"
   ]
  },
  {
   "cell_type": "code",
   "execution_count": 63,
   "metadata": {},
   "outputs": [
    {
     "name": "stdout",
     "output_type": "stream",
     "text": [
      "0 [47.23214284  3.91071429] 45.937499999999986\n",
      "100 [47.23214381  3.91071526] 45.93750000001681\n",
      "200 [47.23427782  3.91284928] 45.93758128415729\n",
      "300 [51.92860243  8.60717389] 439.26743907341495\n",
      "400 [10378.32200419 10335.00057564] 1903303791.3456397\n",
      "500 [22725978.44491906 22725935.12349051] 9209990868781764.0\n",
      "600 [4.9991623e+10 4.9991623e+10] 4.456668149142652e+22\n",
      "700 [1.09969635e+14 1.09969635e+14] 2.156559249033188e+29\n",
      "800 [2.41906943e+17 2.41906943e+17] 1.0435481482921834e+36\n",
      "900 [5.32137522e+20 5.32137522e+20] 5.049676879001884e+42\n"
     ]
    }
   ],
   "source": [
    "for i in range(1000):\n",
    "    y_pred = np.dot(W, X)\n",
    "    err = calc_mse(y, y_pred)\n",
    "    '''for ii in range(W.shape[0]):\n",
    "    W[ii] -= alpha * (1/n * 2 * np.sum(X[ii] * (y_pred - y)))'''\n",
    "    W -= (alpha * (1/n * 2 * np.sum(X * (y_pred - y))))\n",
    "    if i % 100 == 0:\n",
    "        print(i, W, err)"
   ]
  },
  {
   "cell_type": "code",
   "execution_count": 66,
   "metadata": {},
   "outputs": [
    {
     "name": "stdout",
     "output_type": "stream",
     "text": [
      "0 [41.9605886  4.8841471] 62.56106098138247\n",
      "100 [47.20683381  3.9153878 ] 45.937883176057476\n",
      "200 [47.23202135  3.91073672] 45.93750000883229\n",
      "300 [47.23214227  3.91071439] 45.93750000000021\n",
      "400 [47.23214285  3.91071429] 45.93749999999999\n",
      "500 [47.23214286  3.91071429] 45.93749999999999\n",
      "600 [47.23214286  3.91071429] 45.9375\n",
      "700 [47.23214286  3.91071429] 45.9375\n",
      "800 [47.23214286  3.91071429] 45.9375\n",
      "900 [47.23214286  3.91071429] 45.9375\n"
     ]
    }
   ],
   "source": [
    "for i in range(1000):\n",
    "  y_pred = np.dot(W, X)\n",
    "  err = calc_mse(y, y_pred)\n",
    "  W -= (alpha * (1/n * 2 * X @ (y_pred - y))) #W -= (alpha * (1/n * 2 * np.sum(X * (y_pred - y))))\n",
    "  if i % 100 == 0:\n",
    "    print(i, W, err)"
   ]
  },
  {
   "cell_type": "markdown",
   "metadata": {},
   "source": [
    "Ошибка в суммировании np.sum(X * (y_pred - y)). В данном случае получается одно число вместо веткора. В итоге из каждого весового коэффициента вычитаеются одинаковые значения вместо вектора приращения весов. Исправленный вариант:"
   ]
  },
  {
   "cell_type": "code",
   "execution_count": null,
   "metadata": {},
   "outputs": [],
   "source": []
  },
  {
   "cell_type": "code",
   "execution_count": null,
   "metadata": {},
   "outputs": [],
   "source": []
  }
 ],
 "metadata": {
  "kernelspec": {
   "display_name": "Python 3",
   "language": "python",
   "name": "python3"
  },
  "language_info": {
   "codemirror_mode": {
    "name": "ipython",
    "version": 3
   },
   "file_extension": ".py",
   "mimetype": "text/x-python",
   "name": "python",
   "nbconvert_exporter": "python",
   "pygments_lexer": "ipython3",
   "version": "3.8.3"
  }
 },
 "nbformat": 4,
 "nbformat_minor": 4
}
