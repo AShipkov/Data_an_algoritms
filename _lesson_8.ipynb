{
 "cells": [
  {
   "cell_type": "code",
   "execution_count": 58,
   "metadata": {},
   "outputs": [],
   "source": [
    "import numpy as np\n",
    "from sklearn.datasets import load_iris\n",
    "from sklearn.model_selection import train_test_split\n",
    "from matplotlib import pyplot as plt"
   ]
  },
  {
   "cell_type": "markdown",
   "metadata": {},
   "source": [
    "## Урок 8. Снижение размерности данных.\n",
    "1. Обучить любую модель классификации на датасете IRIS до применения PCA и после него. Сравнить качество классификации по отложенной выборке."
   ]
  },
  {
   "cell_type": "code",
   "execution_count": 10,
   "metadata": {},
   "outputs": [],
   "source": [
    "def e_metrics(x1, x2):\n",
    "    distance = np.sum(np.square(x1 - x2))\n",
    "    return np.sqrt(distance)"
   ]
  },
  {
   "cell_type": "code",
   "execution_count": 11,
   "metadata": {},
   "outputs": [],
   "source": [
    "def knn(x_train, y_train, x_test, k):\n",
    "\n",
    "    answers = []\n",
    "    for x in x_test:\n",
    "        test_distances = []\n",
    "            \n",
    "        for i in range(len(x_train)):\n",
    "            \n",
    "            distance = e_metrics(x, x_train[i])# расчет расстояния до объекта обучающей выборки\n",
    "                \n",
    "            test_distances.append((distance, y_train[i]))# Значение расстояния и ответа на объекте обучающей выборки\n",
    "            \n",
    "        classes = {class_item: 0 for class_item in set(y_train)}\n",
    "         \n",
    "        for d in sorted(test_distances)[0:k]:# Сортируем список и среди первых k элементов подсчитаем частоту появления разных классов\n",
    "            classes[d[1]] += 1\n",
    "        answers.append(sorted(classes, key=classes.get)[-1])# Записываем в список ответов наиболее часто встречающийся класс\n",
    "        \n",
    "    return answers"
   ]
  },
  {
   "cell_type": "code",
   "execution_count": 12,
   "metadata": {},
   "outputs": [],
   "source": [
    "def accuracy(pred, y):\n",
    "    return (sum(pred == y) / len(y))"
   ]
  },
  {
   "cell_type": "code",
   "execution_count": 17,
   "metadata": {},
   "outputs": [
    {
     "data": {
      "text/plain": [
       "(150, 4)"
      ]
     },
     "execution_count": 17,
     "metadata": {},
     "output_type": "execute_result"
    }
   ],
   "source": [
    "X, y = load_iris(return_X_y=True)\n",
    "X.shape"
   ]
  },
  {
   "cell_type": "code",
   "execution_count": 18,
   "metadata": {},
   "outputs": [],
   "source": [
    "X_train, X_test, y_train, y_test = train_test_split(X, y,\n",
    "                                                    test_size=0.2,\n",
    "                                                    random_state=1,\n",
    "                                                    stratify=y)"
   ]
  },
  {
   "cell_type": "code",
   "execution_count": 24,
   "metadata": {},
   "outputs": [
    {
     "name": "stdout",
     "output_type": "stream",
     "text": [
      "При k = 100 on train -> 0.500\n",
      "При k = 100 on tesst -> 0.467\n"
     ]
    }
   ],
   "source": [
    " k = 100\n",
    "\n",
    "y_pred_train = knn(X_train, y_train, X_train, k)\n",
    "y_pred = knn(X_train, y_train, X_test, k)\n",
    "\n",
    "print(f'При k = {k} on train -> {accuracy(y_pred_train, y_train):.3f}')\n",
    "print(f'При k = {k} on tesst -> {accuracy(y_pred, y_test):.3f}')"
   ]
  },
  {
   "cell_type": "markdown",
   "metadata": {},
   "source": [
    "Обработаем данные при помощи PCA"
   ]
  },
  {
   "cell_type": "code",
   "execution_count": 25,
   "metadata": {},
   "outputs": [],
   "source": [
    "def standard_scale(x):\n",
    "    res = (x - x.mean(axis=0)) / x.std(axis=0)\n",
    "    return res"
   ]
  },
  {
   "cell_type": "code",
   "execution_count": 26,
   "metadata": {},
   "outputs": [],
   "source": [
    "X = X.astype(float)\n",
    "X = standard_scale(X)"
   ]
  },
  {
   "cell_type": "code",
   "execution_count": 27,
   "metadata": {},
   "outputs": [],
   "source": [
    "covariance_matrix = X.T @ X#собственные векторы и собственные значения\n",
    "\n",
    "eig_values, eig_vectors = np.linalg.eig(covariance_matrix)\n",
    "eig_pairs = [(np.abs(eig_values[i]), eig_vectors[:, i]) for i in range(len(eig_values))]\n",
    "eig_pairs.sort(key=lambda x: x[0], reverse=True)# Cортируею список по убыванию собственных значений"
   ]
  },
  {
   "cell_type": "markdown",
   "metadata": {},
   "source": [
    "Оценю долю дисперсии, которая описывается найденными компонентами."
   ]
  },
  {
   "cell_type": "code",
   "execution_count": 29,
   "metadata": {},
   "outputs": [
    {
     "data": {
      "text/plain": [
       "([72.9624454132999, 22.850761786701742, 3.6689218892828745, 0.517870910715477],\n",
       " array([ 72.96244541,  95.8132072 ,  99.48212909, 100.        ]))"
      ]
     },
     "execution_count": 29,
     "metadata": {},
     "output_type": "execute_result"
    }
   ],
   "source": [
    "eig_sum = sum(eig_values)\n",
    "var_exp = [(i / eig_sum) * 100 for i in sorted(eig_values, reverse=True)]#Доля дисперсии, описываемая каждой из компонент\n",
    "cum_var_exp = np.cumsum(var_exp)#Кумулятивная (то есть накапливаемую) дисперсию при учитывании каждой из компонент\n",
    "var_exp, cum_var_exp"
   ]
  },
  {
   "cell_type": "markdown",
   "metadata": {},
   "source": [
    "Первые две компоненты описывают 94% информации. Отбрасываю две последние компоненты.  \n",
    "Сформирую вектор весов из собственных векторов, соответствующих первым двум главным компонентам."
   ]
  },
  {
   "cell_type": "code",
   "execution_count": 31,
   "metadata": {},
   "outputs": [
    {
     "data": {
      "text/plain": [
       "array([[ 0.52106591, -0.37741762],\n",
       "       [-0.26934744, -0.92329566],\n",
       "       [ 0.5804131 , -0.02449161],\n",
       "       [ 0.56485654, -0.06694199]])"
      ]
     },
     "execution_count": 31,
     "metadata": {},
     "output_type": "execute_result"
    }
   ],
   "source": [
    "W = np.hstack([eig_pairs[i][1].reshape(4,1) for i in range(2)])#Матрица весов W\n",
    "W"
   ]
  },
  {
   "cell_type": "code",
   "execution_count": 32,
   "metadata": {},
   "outputs": [],
   "source": [
    "Z = X.dot(W)#Новая матрицу \"объекты-признаки\""
   ]
  },
  {
   "cell_type": "code",
   "execution_count": 57,
   "metadata": {},
   "outputs": [
    {
     "data": {
      "image/png": "[encoded data removed]",
      "text/plain": [
       "<Figure size 1080x432 with 1 Axes>"
      ]
     },
     "metadata": {
      "needs_background": "light"
     },
     "output_type": "display_data"
    }
   ],
   "source": [
    "plt.figure(figsize=(15, 6))\n",
    "for c, i in zip(\"rgb\", [0, 1, 2]):\n",
    "    plt.scatter(Z[y == i, 0], Z[y == i, 1], c=c)\n",
    "plt.xlabel('Компонента 1')\n",
    "plt.ylabel('Компонента 2')\n",
    "plt.title('PCA IRIS')\n",
    "plt.show()"
   ]
  },
  {
   "cell_type": "markdown",
   "metadata": {},
   "source": [
    "Качество knn при отбрасывании двух последних компонент"
   ]
  },
  {
   "cell_type": "code",
   "execution_count": 44,
   "metadata": {},
   "outputs": [
    {
     "name": "stdout",
     "output_type": "stream",
     "text": [
      "При k = 100 on train -> 0.758\n",
      "При k = 100 on tesst -> 0.667\n"
     ]
    }
   ],
   "source": [
    "X_cutted = X[:, :2]\n",
    "X_train, X_test, y_train, y_test = train_test_split(X_cutted, y,\n",
    "                                                    test_size=0.2,\n",
    "                                                    random_state=1,\n",
    "                                                    stratify=y)\n",
    "k = 100\n",
    "y_pred_train = knn(X_train, y_train, X_train, k)\n",
    "y_pred = knn(X_train, y_train, X_test, k)\n",
    "print(f'При k = {k} on train -> {accuracy(y_pred_train, y_train):.3f}')\n",
    "print(f'При k = {k} on tesst -> {accuracy(y_pred, y_test):.3f}')"
   ]
  },
  {
   "cell_type": "markdown",
   "metadata": {},
   "source": [
    "Качество knn при применении PCA"
   ]
  },
  {
   "cell_type": "code",
   "execution_count": 47,
   "metadata": {},
   "outputs": [
    {
     "name": "stdout",
     "output_type": "stream",
     "text": [
      "При k = 100 on train -> 0.675\n",
      "При k = 100 on tesst -> 0.567\n"
     ]
    }
   ],
   "source": [
    "X_train, X_test, y_train, y_test = train_test_split(Z, y,\n",
    "                                                    test_size=0.2,\n",
    "                                                    random_state=1,\n",
    "                                                    stratify=y)\n",
    "k = 100\n",
    "y_pred_train = knn(X_train, y_train, X_train, k)\n",
    "y_pred = knn(X_train, y_train, X_test, k)\n",
    "print(f'При k = {k} on train -> {accuracy(y_pred_train, y_train):.3f}')\n",
    "print(f'При k = {k} on tesst -> {accuracy(y_pred, y_test):.3f}')"
   ]
  },
  {
   "cell_type": "markdown",
   "metadata": {},
   "source": [
    "### Вывод\n",
    "До применения PCA точность алгоритма на трейне при k = 100 -> 0.500, на тесте при k = 100 -> 0.467\n",
    "При отбрасывании двух последних малозначащих признаков точность алгоритма на трейне при k = 100 -> 0.758, на тесте при k = 100 -> 0.667\n",
    "После применения PCA точность алгоритма на трейне при k = 100 -> 0.675, на тесте при k = 100 -> 0.567  \n",
    "При применении PCA наблюдаем увеличение качества модели на 10-17%\n",
    "При отбрасывании малозначащих признаков наблюдаем увеличение качества модели на 20-25%"
   ]
  },
  {
   "cell_type": "markdown",
   "metadata": {},
   "source": [
    "## Задание 2\n",
    "*Написать свою реализацию метода главных компонент с помощью сингулярного разложения с использованием функции numpy.linalg.svd()"
   ]
  },
  {
   "cell_type": "code",
   "execution_count": 48,
   "metadata": {},
   "outputs": [],
   "source": [
    "def pca_sdv(X, d=1):\n",
    "    X_T_X = X.T @ X\n",
    "    U, s, W = np.linalg.svd(X_T_X)\n",
    "\n",
    "    V = W.T\n",
    "    \n",
    "    pairs = sorted([[idx, item] for idx, item in enumerate(s)], key=lambda item: item[1])\n",
    "    pairs.reverse()\n",
    "    \n",
    "    pairs = np.array(pairs, dtype=int)\n",
    "    \n",
    "    max_pairs = pairs[:d]\n",
    "    max_ids = max_pairs[:, 0]\n",
    "    \n",
    "    WEIGHTS = V[max_ids].T\n",
    "    \n",
    "    return X @ WEIGHTS"
   ]
  },
  {
   "cell_type": "code",
   "execution_count": 54,
   "metadata": {},
   "outputs": [],
   "source": [
    "Z_PCA_SDV = pca_sdv(X, 2)"
   ]
  },
  {
   "cell_type": "code",
   "execution_count": 55,
   "metadata": {},
   "outputs": [],
   "source": [
    "X_train, X_test, y_train, y_test = train_test_split(Z_PCA_SDV, y,\n",
    "                                                    test_size=0.2,\n",
    "                                                    random_state=1,\n",
    "                                                    stratify=y)"
   ]
  },
  {
   "cell_type": "code",
   "execution_count": 56,
   "metadata": {},
   "outputs": [
    {
     "name": "stdout",
     "output_type": "stream",
     "text": [
      "При k = 100 on train -> 0.675\n",
      "При k = 100 on tesst -> 0.700\n"
     ]
    }
   ],
   "source": [
    "k = 100\n",
    "y_pred_train = knn(X_train, y_train, X_train, k)\n",
    "y_pred = knn(X_train, y_train, X_test, k)\n",
    "print(f'При k = {k} on train -> {accuracy(y_pred_train, y_train):.3f}')\n",
    "print(f'При k = {k} on tesst -> {accuracy(y_pred, y_test):.3f}')"
   ]
  },
  {
   "cell_type": "code",
   "execution_count": null,
   "metadata": {},
   "outputs": [],
   "source": []
  }
 ],
 "metadata": {
  "kernelspec": {
   "display_name": "Python 3",
   "language": "python",
   "name": "python3"
  },
  "language_info": {
   "codemirror_mode": {
    "name": "ipython",
    "version": 3
   },
   "file_extension": ".py",
   "mimetype": "text/x-python",
   "name": "python",
   "nbconvert_exporter": "python",
   "pygments_lexer": "ipython3",
   "version": "3.7.6"
  }
 },
 "nbformat": 4,
 "nbformat_minor": 4
}
